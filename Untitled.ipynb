{
 "cells": [
  {
   "cell_type": "code",
   "execution_count": 2,
   "metadata": {},
   "outputs": [],
   "source": [
    "import pandas as pd\n",
    "import numpy as np\n",
    "import matplotlib.pyplot as plt\n",
    "import os"
   ]
  },
  {
   "cell_type": "code",
   "execution_count": 8,
   "metadata": {},
   "outputs": [
    {
     "data": {
      "text/html": [
       "<div>\n",
       "<style scoped>\n",
       "    .dataframe tbody tr th:only-of-type {\n",
       "        vertical-align: middle;\n",
       "    }\n",
       "\n",
       "    .dataframe tbody tr th {\n",
       "        vertical-align: top;\n",
       "    }\n",
       "\n",
       "    .dataframe thead th {\n",
       "        text-align: right;\n",
       "    }\n",
       "</style>\n",
       "<table border=\"1\" class=\"dataframe\">\n",
       "  <thead>\n",
       "    <tr style=\"text-align: right;\">\n",
       "      <th></th>\n",
       "      <th>season</th>\n",
       "      <th>ted</th>\n",
       "      <th>robin</th>\n",
       "      <th>barney</th>\n",
       "      <th>marshall</th>\n",
       "      <th>lily</th>\n",
       "    </tr>\n",
       "  </thead>\n",
       "  <tbody>\n",
       "    <tr>\n",
       "      <th>8</th>\n",
       "      <td>1</td>\n",
       "      <td>1422</td>\n",
       "      <td>685</td>\n",
       "      <td>777</td>\n",
       "      <td>767</td>\n",
       "      <td>762</td>\n",
       "    </tr>\n",
       "    <tr>\n",
       "      <th>6</th>\n",
       "      <td>2</td>\n",
       "      <td>1088</td>\n",
       "      <td>664</td>\n",
       "      <td>724</td>\n",
       "      <td>716</td>\n",
       "      <td>635</td>\n",
       "    </tr>\n",
       "    <tr>\n",
       "      <th>7</th>\n",
       "      <td>3</td>\n",
       "      <td>761</td>\n",
       "      <td>433</td>\n",
       "      <td>740</td>\n",
       "      <td>492</td>\n",
       "      <td>434</td>\n",
       "    </tr>\n",
       "    <tr>\n",
       "      <th>2</th>\n",
       "      <td>4</td>\n",
       "      <td>1067</td>\n",
       "      <td>707</td>\n",
       "      <td>948</td>\n",
       "      <td>798</td>\n",
       "      <td>574</td>\n",
       "    </tr>\n",
       "    <tr>\n",
       "      <th>3</th>\n",
       "      <td>5</td>\n",
       "      <td>1165</td>\n",
       "      <td>824</td>\n",
       "      <td>980</td>\n",
       "      <td>935</td>\n",
       "      <td>747</td>\n",
       "    </tr>\n",
       "    <tr>\n",
       "      <th>5</th>\n",
       "      <td>6</td>\n",
       "      <td>885</td>\n",
       "      <td>656</td>\n",
       "      <td>837</td>\n",
       "      <td>737</td>\n",
       "      <td>645</td>\n",
       "    </tr>\n",
       "    <tr>\n",
       "      <th>4</th>\n",
       "      <td>7</td>\n",
       "      <td>111</td>\n",
       "      <td>85</td>\n",
       "      <td>97</td>\n",
       "      <td>136</td>\n",
       "      <td>73</td>\n",
       "    </tr>\n",
       "    <tr>\n",
       "      <th>0</th>\n",
       "      <td>8</td>\n",
       "      <td>37</td>\n",
       "      <td>35</td>\n",
       "      <td>26</td>\n",
       "      <td>39</td>\n",
       "      <td>30</td>\n",
       "    </tr>\n",
       "    <tr>\n",
       "      <th>1</th>\n",
       "      <td>9</td>\n",
       "      <td>48</td>\n",
       "      <td>26</td>\n",
       "      <td>51</td>\n",
       "      <td>44</td>\n",
       "      <td>29</td>\n",
       "    </tr>\n",
       "  </tbody>\n",
       "</table>\n",
       "</div>"
      ],
      "text/plain": [
       "  season   ted robin barney marshall lily\n",
       "8      1  1422   685    777      767  762\n",
       "6      2  1088   664    724      716  635\n",
       "7      3   761   433    740      492  434\n",
       "2      4  1067   707    948      798  574\n",
       "3      5  1165   824    980      935  747\n",
       "5      6   885   656    837      737  645\n",
       "4      7   111    85     97      136   73\n",
       "0      8    37    35     26       39   30\n",
       "1      9    48    26     51       44   29"
      ]
     },
     "execution_count": 8,
     "metadata": {},
     "output_type": "execute_result"
    }
   ],
   "source": [
    "import screenTime\n",
    "\n",
    "charachterLines = pd.DataFrame(columns=['season', 'ted', 'robin', 'barney', 'marshall', 'lily'])\n",
    "directory = '/Users/abhishekkumar/Documents/programming/himym/data/dataframes/'\n",
    "for file in os.listdir(directory):\n",
    "    fileName = os.fsdecode(file)\n",
    "    season = pd.read_csv(directory+file)\n",
    "    seasonDict = screenTime.lineCounter(season)\n",
    "    seasonDict['season'] = season.iloc[0]['Season']\n",
    "    charachterLines = charachterLines.append(seasonDict,ignore_index=True)\n",
    "        \n",
    "charachterLines = charachterLines.sort_values(by=['season'])\n",
    "charachterLines"
   ]
  },
  {
   "cell_type": "code",
   "execution_count": 12,
   "metadata": {},
   "outputs": [
    {
     "data": {
      "text/plain": [
       "<matplotlib.axes._subplots.AxesSubplot at 0x1055f6198>"
      ]
     },
     "execution_count": 12,
     "metadata": {},
     "output_type": "execute_result"
    },
    {
     "data": {
      "image/png": "[encoded data removed]",
      "text/plain": [
       "<Figure size 432x288 with 1 Axes>"
      ]
     },
     "metadata": {
      "needs_background": "light"
     },
     "output_type": "display_data"
    }
   ],
   "source": [
    "charachterLines.plot(y=['ted', 'robin', 'barney', 'marshall', 'lily'], x='season')"
   ]
  },
  {
   "cell_type": "code",
   "execution_count": null,
   "metadata": {},
   "outputs": [],
   "source": []
  }
 ],
 "metadata": {
  "kernelspec": {
   "display_name": "Python 3",
   "language": "python",
   "name": "python3"
  },
  "language_info": {
   "codemirror_mode": {
    "name": "ipython",
    "version": 3
   },
   "file_extension": ".py",
   "mimetype": "text/x-python",
   "name": "python",
   "nbconvert_exporter": "python",
   "pygments_lexer": "ipython3",
   "version": "3.7.0"
  }
 },
 "nbformat": 4,
 "nbformat_minor": 2
}
